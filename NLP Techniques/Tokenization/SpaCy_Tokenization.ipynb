{
  "nbformat": 4,
  "nbformat_minor": 0,
  "metadata": {
    "colab": {
      "name": "SpaCy Tokenization.ipynb",
      "provenance": [],
      "collapsed_sections": []
    },
    "kernelspec": {
      "name": "python3",
      "display_name": "Python 3"
    }
  },
  "cells": [
    {
      "cell_type": "markdown",
      "metadata": {
        "id": "HAN3Swa6Ss1W",
        "colab_type": "text"
      },
      "source": [
        "# Convert Text into Words or Sentences using SpaCy "
      ]
    },
    {
      "cell_type": "code",
      "metadata": {
        "id": "P5uvxv1DSNuA",
        "colab_type": "code",
        "colab": {}
      },
      "source": [
        "import spacy\n",
        "\n",
        "# load the core English language model\n",
        "model = spacy.load('en_core_web_sm')"
      ],
      "execution_count": 1,
      "outputs": []
    },
    {
      "cell_type": "markdown",
      "metadata": {
        "id": "e7VXCgadS9xl",
        "colab_type": "text"
      },
      "source": [
        "### Tokenize text to words"
      ]
    },
    {
      "cell_type": "code",
      "metadata": {
        "id": "XeEfWcE7S1Ct",
        "colab_type": "code",
        "colab": {
          "base_uri": "https://localhost:8080/",
          "height": 201
        },
        "outputId": "c388cbb2-5680-4e72-9a0d-5bf0b5a25dea"
      },
      "source": [
        "# input string\n",
        "sentence = model(u'Hamza young freshly graduated in the field of Big Data.')\n",
        "\n",
        "# tokenize text to words\n",
        "for word in sentence:\n",
        "    print(word.text)"
      ],
      "execution_count": 8,
      "outputs": [
        {
          "output_type": "stream",
          "text": [
            "Hamza\n",
            "young\n",
            "freshly\n",
            "graduated\n",
            "in\n",
            "the\n",
            "field\n",
            "of\n",
            "Big\n",
            "Data\n",
            ".\n"
          ],
          "name": "stdout"
        }
      ]
    },
    {
      "cell_type": "markdown",
      "metadata": {
        "id": "dbr1hVm7T-lX",
        "colab_type": "text"
      },
      "source": [
        "### Tokenize text to sentences"
      ]
    },
    {
      "cell_type": "code",
      "metadata": {
        "id": "wApKMT4ST-xl",
        "colab_type": "code",
        "colab": {
          "base_uri": "https://localhost:8080/",
          "height": 67
        },
        "outputId": "4bf72045-2d4d-4482-e02e-483e0bd7c1a1"
      },
      "source": [
        "# input string\n",
        "document = model(u'Hamza young freshly graduated in the field of Big Data.  I live in Morocco, What about you ?')\n",
        " \n",
        "# tokenize at sentence level\n",
        "for sentence in document.sents:\n",
        "    print(sentence)"
      ],
      "execution_count": 11,
      "outputs": [
        {
          "output_type": "stream",
          "text": [
            "Hamza young freshly graduated in the field of Big Data.  \n",
            "I live in Morocco,\n",
            "What about you ?\n"
          ],
          "name": "stdout"
        }
      ]
    }
  ]
}