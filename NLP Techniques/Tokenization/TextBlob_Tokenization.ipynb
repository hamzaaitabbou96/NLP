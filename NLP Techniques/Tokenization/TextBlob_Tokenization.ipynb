{
  "nbformat": 4,
  "nbformat_minor": 0,
  "metadata": {
    "colab": {
      "name": "TextBlob Tokenization.ipynb",
      "provenance": [],
      "collapsed_sections": []
    },
    "kernelspec": {
      "name": "python3",
      "display_name": "Python 3"
    }
  },
  "cells": [
    {
      "cell_type": "markdown",
      "metadata": {
        "id": "HAN3Swa6Ss1W",
        "colab_type": "text"
      },
      "source": [
        "# Convert Text into Words or Sentences using TextBlob "
      ]
    },
    {
      "cell_type": "markdown",
      "metadata": {
        "id": "UOgfzIMev1lP",
        "colab_type": "text"
      },
      "source": [
        "TextBlob module is a Python library and offers a simple API to access its methods and perform basic NLP tasks. It is built on the top of NLTK module."
      ]
    },
    {
      "cell_type": "code",
      "metadata": {
        "id": "P5uvxv1DSNuA",
        "colab_type": "code",
        "colab": {
          "base_uri": "https://localhost:8080/",
          "height": 50
        },
        "outputId": "6ce12154-d951-416b-f11b-9aeb4a26ca94"
      },
      "source": [
        "from textblob import TextBlob \n",
        "import nltk\n",
        "nltk.download('punkt') \n",
        "\n",
        "# create a TextBlob object \n",
        "blob = TextBlob(text) "
      ],
      "execution_count": 9,
      "outputs": [
        {
          "output_type": "stream",
          "text": [
            "[nltk_data] Downloading package punkt to /root/nltk_data...\n",
            "[nltk_data]   Package punkt is already up-to-date!\n"
          ],
          "name": "stdout"
        }
      ]
    },
    {
      "cell_type": "markdown",
      "metadata": {
        "id": "e7VXCgadS9xl",
        "colab_type": "text"
      },
      "source": [
        "### Tokenize text to words"
      ]
    },
    {
      "cell_type": "code",
      "metadata": {
        "id": "XeEfWcE7S1Ct",
        "colab_type": "code",
        "colab": {
          "base_uri": "https://localhost:8080/",
          "height": 33
        },
        "outputId": "01788614-c570-463a-a12c-ad036e0a082e"
      },
      "source": [
        "# input string\n",
        "text = (\"Hamza young freshly graduated in the field of Big Data.  I live in Morocco, What about you ?\") \n",
        "  \n",
        "# tokenize text into words \n",
        "print(blob.words) \n",
        "  "
      ],
      "execution_count": 14,
      "outputs": [
        {
          "output_type": "stream",
          "text": [
            "['Hamza', 'young', 'freshly', 'graduated', 'in', 'the', 'field', 'of', 'Big', 'Data', 'I', 'live', 'in', 'Morocco', 'What', 'about', 'you']\n"
          ],
          "name": "stdout"
        }
      ]
    },
    {
      "cell_type": "markdown",
      "metadata": {
        "id": "dbr1hVm7T-lX",
        "colab_type": "text"
      },
      "source": [
        "### Tokenize text to sentences"
      ]
    },
    {
      "cell_type": "code",
      "metadata": {
        "id": "wApKMT4ST-xl",
        "colab_type": "code",
        "colab": {
          "base_uri": "https://localhost:8080/",
          "height": 50
        },
        "outputId": "1ba1fc92-1f2c-4724-d16a-9d3659827b59"
      },
      "source": [
        "# tokenize text into sentences\n",
        "for sent in blob.sentences:\n",
        "  print(sent)"
      ],
      "execution_count": 13,
      "outputs": [
        {
          "output_type": "stream",
          "text": [
            "Hamza young freshly graduated in the field of Big Data.\n",
            "I live in Morocco, What about you ?\n"
          ],
          "name": "stdout"
        }
      ]
    }
  ]
}