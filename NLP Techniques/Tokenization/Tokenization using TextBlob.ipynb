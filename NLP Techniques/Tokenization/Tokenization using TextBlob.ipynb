{
  "nbformat": 4,
  "nbformat_minor": 0,
  "metadata": {
    "colab": {
      "name": "TextBlob Tokenization.ipynb",
      "provenance": [],
      "collapsed_sections": []
    },
    "kernelspec": {
      "name": "python3",
      "display_name": "Python 3"
    }
  },
  "cells": [
    {
      "cell_type": "markdown",
      "metadata": {
        "id": "HAN3Swa6Ss1W",
        "colab_type": "text"
      },
      "source": [
        "# Convert Text into Words or Sentences using TextBlob "
      ]
    },
    {
      "cell_type": "markdown",
      "metadata": {
        "id": "UOgfzIMev1lP",
        "colab_type": "text"
      },
      "source": [
        "TextBlob module is a Python library and offers a simple API to access its methods and perform basic NLP tasks. It is built on the top of NLTK module."
      ]
    },
    {
      "cell_type": "code",
      "metadata": {
        "id": "P5uvxv1DSNuA",
        "colab_type": "code",
        "colab": {
          "base_uri": "https://localhost:8080/",
          "height": 67
        },
        "outputId": "bcc240e4-f69d-412e-9cd3-2959714f768e"
      },
      "source": [
        "from textblob import TextBlob \n",
        "import nltk\n",
        "nltk.download('punkt') "
      ],
      "execution_count": 24,
      "outputs": [
        {
          "output_type": "stream",
          "text": [
            "[nltk_data] Downloading package punkt to /root/nltk_data...\n",
            "[nltk_data]   Package punkt is already up-to-date!\n"
          ],
          "name": "stdout"
        },
        {
          "output_type": "execute_result",
          "data": {
            "text/plain": [
              "True"
            ]
          },
          "metadata": {
            "tags": []
          },
          "execution_count": 24
        }
      ]
    },
    {
      "cell_type": "markdown",
      "metadata": {
        "id": "e7VXCgadS9xl",
        "colab_type": "text"
      },
      "source": [
        "### Tokenize text to words"
      ]
    },
    {
      "cell_type": "code",
      "metadata": {
        "id": "XeEfWcE7S1Ct",
        "colab_type": "code",
        "colab": {
          "base_uri": "https://localhost:8080/",
          "height": 33
        },
        "outputId": "e6f84d07-1704-42e2-bfde-8e07ef78a131"
      },
      "source": [
        "# input string\n",
        "text = (\"Hamza young freshly graduated in the field of Big Data.  I live in Morocco, What about you ?\") \n",
        "\n",
        "# create a TextBlob object \n",
        "blob = TextBlob(text) \n",
        "  \n",
        "# tokenize text into words \n",
        "print(blob.words) \n",
        "  "
      ],
      "execution_count": 25,
      "outputs": [
        {
          "output_type": "stream",
          "text": [
            "['Hamza', 'young', 'freshly', 'graduated', 'in', 'the', 'field', 'of', 'Big', 'Data', 'I', 'live', 'in', 'Morocco', 'What', 'about', 'you']\n"
          ],
          "name": "stdout"
        }
      ]
    },
    {
      "cell_type": "markdown",
      "metadata": {
        "id": "dbr1hVm7T-lX",
        "colab_type": "text"
      },
      "source": [
        "### Tokenize text to sentences"
      ]
    },
    {
      "cell_type": "code",
      "metadata": {
        "id": "wApKMT4ST-xl",
        "colab_type": "code",
        "colab": {
          "base_uri": "https://localhost:8080/",
          "height": 50
        },
        "outputId": "833cb1ca-a3fd-42f8-e19e-9dc014e679da"
      },
      "source": [
        "# tokenize text into sentences\n",
        "for sent in blob.sentences:\n",
        "  print(sent)"
      ],
      "execution_count": 26,
      "outputs": [
        {
          "output_type": "stream",
          "text": [
            "Hamza young freshly graduated in the field of Big Data.\n",
            "I live in Morocco, What about you ?\n"
          ],
          "name": "stdout"
        }
      ]
    }
  ]
}