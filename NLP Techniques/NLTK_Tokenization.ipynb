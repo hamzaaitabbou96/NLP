{
  "nbformat": 4,
  "nbformat_minor": 0,
  "metadata": {
    "colab": {
      "name": "NLTK Tokenization.ipynb",
      "provenance": [],
      "collapsed_sections": []
    },
    "kernelspec": {
      "name": "python3",
      "display_name": "Python 3"
    }
  },
  "cells": [
    {
      "cell_type": "markdown",
      "metadata": {
        "id": "HAN3Swa6Ss1W",
        "colab_type": "text"
      },
      "source": [
        "# Convert Text into Words or Sentences using NLTK"
      ]
    },
    {
      "cell_type": "code",
      "metadata": {
        "id": "P5uvxv1DSNuA",
        "colab_type": "code",
        "colab": {
          "base_uri": "https://localhost:8080/",
          "height": 67
        },
        "outputId": "c6561681-11c4-45ae-c7c4-abe2f76b807f"
      },
      "source": [
        "import nltk\n",
        " \n",
        "# download nltk packages for tokenization\n",
        "nltk.download('punkt')"
      ],
      "execution_count": 6,
      "outputs": [
        {
          "output_type": "stream",
          "text": [
            "[nltk_data] Downloading package punkt to /root/nltk_data...\n",
            "[nltk_data]   Package punkt is already up-to-date!\n"
          ],
          "name": "stdout"
        },
        {
          "output_type": "execute_result",
          "data": {
            "text/plain": [
              "True"
            ]
          },
          "metadata": {
            "tags": []
          },
          "execution_count": 6
        }
      ]
    },
    {
      "cell_type": "markdown",
      "metadata": {
        "id": "e7VXCgadS9xl",
        "colab_type": "text"
      },
      "source": [
        "### Tokenize text to words"
      ]
    },
    {
      "cell_type": "code",
      "metadata": {
        "id": "XeEfWcE7S1Ct",
        "colab_type": "code",
        "colab": {
          "base_uri": "https://localhost:8080/",
          "height": 33
        },
        "outputId": "1e74d8b4-82d7-4e12-c133-bc09b5e05237"
      },
      "source": [
        "# input string\n",
        "text = \"\"\"Hamza young freshly graduated in the field of Big Data.\"\"\"\n",
        " \n",
        "# tokenize text to words\n",
        "tokens = nltk.word_tokenize(text)\n",
        "print(tokens)"
      ],
      "execution_count": 7,
      "outputs": [
        {
          "output_type": "stream",
          "text": [
            "['Hamza', 'young', 'freshly', 'graduated', 'in', 'the', 'field', 'of', 'Big', 'Data', '.']\n"
          ],
          "name": "stdout"
        }
      ]
    },
    {
      "cell_type": "markdown",
      "metadata": {
        "id": "dbr1hVm7T-lX",
        "colab_type": "text"
      },
      "source": [
        "### Tokenize text to sentences"
      ]
    },
    {
      "cell_type": "code",
      "metadata": {
        "id": "wApKMT4ST-xl",
        "colab_type": "code",
        "colab": {
          "base_uri": "https://localhost:8080/",
          "height": 33
        },
        "outputId": "783a1af1-cbff-4dc3-d403-5d67d52f7fd5"
      },
      "source": [
        "# input string\n",
        "text = \"\"\"Hamza young freshly graduated in the field of Big Data.  I live in Morocco, What about you ?\"\"\"\n",
        " \n",
        "# tokenize at sentence level\n",
        "tokens = nltk.sent_tokenize(text)\n",
        "\n",
        "print(tokens)"
      ],
      "execution_count": 8,
      "outputs": [
        {
          "output_type": "stream",
          "text": [
            "['Hamza young freshly graduated in the field of Big Data.', 'I live in Morocco, What about you ?']\n"
          ],
          "name": "stdout"
        }
      ]
    }
  ]
}