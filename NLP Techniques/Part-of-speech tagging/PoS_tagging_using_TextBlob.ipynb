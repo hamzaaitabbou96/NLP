{
  "nbformat": 4,
  "nbformat_minor": 0,
  "metadata": {
    "colab": {
      "name": "PoS tagging using TextBlob.ipynb",
      "provenance": [],
      "collapsed_sections": []
    },
    "kernelspec": {
      "name": "python3",
      "display_name": "Python 3"
    }
  },
  "cells": [
    {
      "cell_type": "markdown",
      "metadata": {
        "id": "HAN3Swa6Ss1W",
        "colab_type": "text"
      },
      "source": [
        "# Part of speech tagging using TextBlob "
      ]
    },
    {
      "cell_type": "markdown",
      "metadata": {
        "id": "UOgfzIMev1lP",
        "colab_type": "text"
      },
      "source": [
        "TextBlob module is a Python library and offers a simple API to access its methods and perform basic NLP tasks. It is built on the top of NLTK module."
      ]
    },
    {
      "cell_type": "code",
      "metadata": {
        "id": "P5uvxv1DSNuA",
        "colab_type": "code",
        "colab": {
          "base_uri": "https://localhost:8080/",
          "height": 134
        },
        "outputId": "29b63f2c-e43e-438a-fa5d-d65c2cc77b59"
      },
      "source": [
        "# from textblob lib import TextBlob method \n",
        "from textblob import TextBlob \n",
        "import nltk\n",
        "nltk.download('punkt')\n",
        "nltk.download('averaged_perceptron_tagger') "
      ],
      "execution_count": 15,
      "outputs": [
        {
          "output_type": "stream",
          "text": [
            "[nltk_data] Downloading package punkt to /root/nltk_data...\n",
            "[nltk_data]   Package punkt is already up-to-date!\n",
            "[nltk_data] Downloading package averaged_perceptron_tagger to\n",
            "[nltk_data]     /root/nltk_data...\n",
            "[nltk_data]   Package averaged_perceptron_tagger is already up-to-\n",
            "[nltk_data]       date!\n"
          ],
          "name": "stdout"
        },
        {
          "output_type": "execute_result",
          "data": {
            "text/plain": [
              "True"
            ]
          },
          "metadata": {
            "tags": []
          },
          "execution_count": 15
        }
      ]
    },
    {
      "cell_type": "code",
      "metadata": {
        "id": "XeEfWcE7S1Ct",
        "colab_type": "code",
        "colab": {
          "base_uri": "https://localhost:8080/",
          "height": 53
        },
        "outputId": "eef9f7e1-7b78-436a-cf7e-28a7994f9513"
      },
      "source": [
        "# input string\n",
        "text = (\"Hamza young freshly graduated in the field of Big Data.  I live in Morocco\") \n",
        "  \n",
        "# create a TextBlob object \n",
        "blob = TextBlob(text) \n",
        " \n",
        "# Part-of-speech tags can be accessed through the tags property of blob object   \n",
        "# print word with pos tag. \n",
        "print(blob.tags) \n",
        "  "
      ],
      "execution_count": 16,
      "outputs": [
        {
          "output_type": "stream",
          "text": [
            "[('Hamza', 'NNP'), ('young', 'JJ'), ('freshly', 'RB'), ('graduated', 'VBN'), ('in', 'IN'), ('the', 'DT'), ('field', 'NN'), ('of', 'IN'), ('Big', 'NNP'), ('Data', 'NNP'), ('I', 'PRP'), ('live', 'VBP'), ('in', 'IN'), ('Morocco', 'NNP')]\n"
          ],
          "name": "stdout"
        }
      ]
    }
  ]
}