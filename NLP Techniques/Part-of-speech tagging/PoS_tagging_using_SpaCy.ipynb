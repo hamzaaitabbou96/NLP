{
  "nbformat": 4,
  "nbformat_minor": 0,
  "metadata": {
    "colab": {
      "name": "PoS tagging using SpaCy.ipynb",
      "provenance": [],
      "collapsed_sections": []
    },
    "kernelspec": {
      "name": "python3",
      "display_name": "Python 3"
    }
  },
  "cells": [
    {
      "cell_type": "markdown",
      "metadata": {
        "id": "HAN3Swa6Ss1W",
        "colab_type": "text"
      },
      "source": [
        "# Part of speech tagging using SpaCy "
      ]
    },
    {
      "cell_type": "code",
      "metadata": {
        "id": "P5uvxv1DSNuA",
        "colab_type": "code",
        "colab": {}
      },
      "source": [
        "import spacy\n",
        "\n",
        "# load the core English language model\n",
        "nlp = spacy.load('en_core_web_sm')"
      ],
      "execution_count": 11,
      "outputs": []
    },
    {
      "cell_type": "code",
      "metadata": {
        "id": "XeEfWcE7S1Ct",
        "colab_type": "code",
        "colab": {
          "base_uri": "https://localhost:8080/",
          "height": 268
        },
        "outputId": "ea78b603-f865-4943-e68e-f8ee6868920d"
      },
      "source": [
        "# input text\n",
        "\n",
        "text = \"\"\"Hamza young freshly graduated in the field of Big Data. I live in Morocco\"\"\"\n",
        "doc = nlp(text) \n",
        "  \n",
        "# Token and Tag \n",
        "for token in doc: \n",
        "  print(token, token.pos_) \n",
        "  "
      ],
      "execution_count": 12,
      "outputs": [
        {
          "output_type": "stream",
          "text": [
            "Hamza NOUN\n",
            "young ADJ\n",
            "freshly ADV\n",
            "graduated VERB\n",
            "in ADP\n",
            "the DET\n",
            "field NOUN\n",
            "of ADP\n",
            "Big PROPN\n",
            "Data PROPN\n",
            ". PUNCT\n",
            "I PRON\n",
            "live VERB\n",
            "in ADP\n",
            "Morocco PROPN\n"
          ],
          "name": "stdout"
        }
      ]
    }
  ]
}