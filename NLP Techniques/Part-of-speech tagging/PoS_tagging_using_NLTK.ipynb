{
  "nbformat": 4,
  "nbformat_minor": 0,
  "metadata": {
    "colab": {
      "name": "PoS tagging using NLTK.ipynb",
      "provenance": [],
      "collapsed_sections": []
    },
    "kernelspec": {
      "name": "python3",
      "display_name": "Python 3"
    }
  },
  "cells": [
    {
      "cell_type": "markdown",
      "metadata": {
        "id": "HAN3Swa6Ss1W",
        "colab_type": "text"
      },
      "source": [
        "# Part of speech tagging using NLTK"
      ]
    },
    {
      "cell_type": "code",
      "metadata": {
        "id": "P5uvxv1DSNuA",
        "colab_type": "code",
        "colab": {
          "base_uri": "https://localhost:8080/",
          "height": 150
        },
        "outputId": "4c3e78f6-1286-4e21-d818-e9ff1aef1c3c"
      },
      "source": [
        "import nltk\n",
        "nltk.download('punkt')\n",
        "nltk.download('stopwords')\n",
        "nltk.download('averaged_perceptron_tagger')\n",
        "from nltk.corpus import stopwords \n",
        "from nltk.tokenize import word_tokenize, sent_tokenize \n",
        "stop_words = set(stopwords.words('english')) "
      ],
      "execution_count": 17,
      "outputs": [
        {
          "output_type": "stream",
          "text": [
            "[nltk_data] Downloading package punkt to /root/nltk_data...\n",
            "[nltk_data]   Package punkt is already up-to-date!\n",
            "[nltk_data] Downloading package stopwords to /root/nltk_data...\n",
            "[nltk_data]   Package stopwords is already up-to-date!\n",
            "[nltk_data] Downloading package averaged_perceptron_tagger to\n",
            "[nltk_data]     /root/nltk_data...\n",
            "[nltk_data]   Package averaged_perceptron_tagger is already up-to-\n",
            "[nltk_data]       date!\n"
          ],
          "name": "stdout"
        }
      ]
    },
    {
      "cell_type": "code",
      "metadata": {
        "id": "XeEfWcE7S1Ct",
        "colab_type": "code",
        "colab": {
          "base_uri": "https://localhost:8080/",
          "height": 50
        },
        "outputId": "567691c9-d4e7-413b-db7a-bce352f98add"
      },
      "source": [
        "# input text\n",
        "\n",
        "txt = \"Hamza young freshly graduated in the field of Big Data. I live in Morocco\"\n",
        "  \n",
        "tokenized = sent_tokenize(txt) \n",
        "for i in tokenized: \n",
        "      \n",
        "    # Word tokenizers is used to find the words and punctuation in a string \n",
        "    wordsList = nltk.word_tokenize(i) \n",
        "  \n",
        "    # removing stop words from text \n",
        "    wordsList = [w for w in wordsList if not w in stop_words]  \n",
        "  \n",
        "    #  Using a Tagger. Which is part-of-speech tagger or POS-tagger.  \n",
        "    tagged = nltk.pos_tag(wordsList) \n",
        "    print(tagged)"
      ],
      "execution_count": 18,
      "outputs": [
        {
          "output_type": "stream",
          "text": [
            "[('Hamza', 'NNP'), ('young', 'JJ'), ('freshly', 'RB'), ('graduated', 'VBN'), ('field', 'NN'), ('Big', 'NNP'), ('Data', 'NNP'), ('.', '.')]\n",
            "[('I', 'PRP'), ('live', 'VBP'), ('Morocco', 'NN')]\n"
          ],
          "name": "stdout"
        }
      ]
    }
  ]
}